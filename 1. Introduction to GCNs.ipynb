{
 "cells": [
  {
   "cell_type": "markdown",
   "metadata": {},
   "source": [
    "# What are GCNs?\n",
    "They are an extremely powerful architecture (under-utilized in my openion) that are used on spectral points in a graph. And even on regular domain, when carefuly tuned, they are known to match the efficiency of those of regular CNNs. The beauty of this architecture is that, even from a randomly initialed network, sensible classification can be observed. \n",
    "\n",
    "![image.png](https://i.imgur.com/b3sE8CO.png)\n",
    "\n",
    "# A Simple Graph\n",
    "Let us try to analyse how the network can be made with an example\n",
    "\n",
    "![image.png](https://upload.wikimedia.org/wikipedia/commons/thumb/5/5b/6n-graf.svg/320px-6n-graf.svg.png)"
   ]
  },
  {
   "cell_type": "code",
   "execution_count": null,
   "metadata": {},
   "outputs": [],
   "source": []
  }
 ],
 "metadata": {
  "kernelspec": {
   "display_name": "Python 3",
   "language": "python",
   "name": "python3"
  },
  "language_info": {
   "codemirror_mode": {
    "name": "ipython",
    "version": 3
   },
   "file_extension": ".py",
   "mimetype": "text/x-python",
   "name": "python",
   "nbconvert_exporter": "python",
   "pygments_lexer": "ipython3",
   "version": "3.7.7"
  }
 },
 "nbformat": 4,
 "nbformat_minor": 4
}
